{
 "cells": [
  {
   "cell_type": "markdown",
   "metadata": {},
   "source": [
    "# PyTorch Assignment: Multi-Layer Perceptron (MLP)\n",
    "\n",
    "Building an MLP on the MNIST data"
   ]
  },
  {
   "cell_type": "code",
   "execution_count": 25,
   "metadata": {},
   "outputs": [
    {
     "name": "stdout",
     "output_type": "stream",
     "text": [
      "Number of MNIST training examples: 60000\n",
      "Number of MNIST test examples: 10000\n"
     ]
    }
   ],
   "source": [
    "%matplotlib inline\n",
    "\n",
    "#import necessary libraries\n",
    "import numpy as np\n",
    "import torch\n",
    "import matplotlib.pyplot as plt\n",
    "import torch.nn.functional as F\n",
    "from torchvision import datasets, transforms\n",
    "from tqdm.notebook import tqdm\n",
    "\n",
    "#download train and test datasets from MNIST and transform to tensors\n",
    "mnist_train = datasets.MNIST(root=\"./datasets\", train=True, transform=transforms.ToTensor(), download=True)\n",
    "mnist_test = datasets.MNIST(root=\"./datasets\", train=False, transform=transforms.ToTensor(), download=True)\n",
    "train_loader = torch.utils.data.DataLoader(mnist_train, batch_size=100, shuffle=True)\n",
    "test_loader = torch.utils.data.DataLoader(mnist_test, batch_size=100, shuffle=False)\n",
    "\n",
    "print(\"Number of MNIST training examples: {}\".format(len(mnist_train)))\n",
    "print(\"Number of MNIST test examples: {}\".format(len(mnist_test)))\n"
   ]
  },
  {
   "cell_type": "code",
   "execution_count": 26,
   "metadata": {},
   "outputs": [
    {
     "name": "stdout",
     "output_type": "stream",
     "text": [
      "Default image shape: torch.Size([1, 28, 28])\n",
      "Reshaped image shape: torch.Size([28, 28])\n",
      "The label for this image: 8\n"
     ]
    },
    {
     "data": {
      "image/png": "[encoded data removed]",
      "text/plain": [
       "<Figure size 432x288 with 1 Axes>"
      ]
     },
     "metadata": {
      "needs_background": "light"
     },
     "output_type": "display_data"
    }
   ],
   "source": [
    "# Pick out the 9th (0-indexed) example from the training set\n",
    "image, label = mnist_train[10001]\n",
    "\n",
    "# Plot the image\n",
    "print(\"Default image shape: {}\".format(image.shape))\n",
    "image = image.reshape([28,28])\n",
    "print(\"Reshaped image shape: {}\".format(image.shape))\n",
    "plt.imshow(image, cmap=\"gray\")\n",
    "\n",
    "# Print the label\n",
    "print(\"The label for this image: {}\".format(label))"
   ]
  },
  {
   "cell_type": "code",
   "execution_count": 27,
   "metadata": {},
   "outputs": [],
   "source": [
    "# DataLoader takes care of batching and shuffling\n",
    "train_loader = torch.utils.data.DataLoader(mnist_train, batch_size = 200, shuffle = True)\n",
    "test_loader = torch.utils.data.DataLoader(mnist_test, batch_size = 200, shuffle = False)\n",
    "#create an iterator object\n",
    "data_train_iter = iter(train_loader)\n",
    "images, labels = data_train_iter.next()"
   ]
  },
  {
   "cell_type": "code",
   "execution_count": 28,
   "metadata": {},
   "outputs": [
    {
     "name": "stdout",
     "output_type": "stream",
     "text": [
      "The shape of input x_2: torch.Size([200, 784])\n"
     ]
    }
   ],
   "source": [
    "#view() reshapes the tensor (tensor_name.view())\n",
    "#Ex: a = torch.range(1, 16)\n",
    "#a = a.view(4, 4) -> changes the above tensor 'a', from a 1x16 to a 4x4 tensor\n",
    "#-1 parameter means that if you do not know how many rows you want, but are sure of the number of columns, you can \n",
    "# use -1 -> give me a tensor that has this many columns (28x28 below) and you compute the number of rows to make this \n",
    "#happen\n",
    "x_2 = images.view(-1, 28*28)\n",
    "print(\"The shape of input x_2: {}\".format(x_2.shape))"
   ]
  },
  {
   "cell_type": "code",
   "execution_count": 29,
   "metadata": {},
   "outputs": [],
   "source": [
    "# Initalializing a 500-d hidden layer. W_500 is randomized and b starts at zero\n",
    "W = torch.randn(784, 500)/np.sqrt(784)\n",
    "W.requires_grad_()\n",
    "#print(W_500)\n",
    "b = torch.zeros(500, requires_grad=True)\n",
    "#print(b_500)"
   ]
  },
  {
   "cell_type": "code",
   "execution_count": 30,
   "metadata": {},
   "outputs": [
    {
     "name": "stdout",
     "output_type": "stream",
     "text": [
      "tensor([[-0.4060,  0.3533,  0.1263,  ..., -0.4602, -0.0892,  0.2790],\n",
      "        [-0.3982,  0.1660,  0.1402,  ...,  0.0668,  0.0069, -0.0252],\n",
      "        [-0.0941,  0.3177,  0.3979,  ..., -0.2908, -0.3049, -0.4494],\n",
      "        ...,\n",
      "        [-0.2490,  0.4897,  0.3237,  ..., -0.0070,  0.1024,  0.2005],\n",
      "        [ 0.0413,  0.2355, -0.0094,  ..., -0.5556,  0.2227,  0.2373],\n",
      "        [-0.0826, -0.3315,  0.7326,  ...,  0.1103, -0.1773,  0.0295]],\n",
      "       grad_fn=<AddBackward0>)\n"
     ]
    }
   ],
   "source": [
    "#Perform a linear transform with W and b\n",
    "y = torch.matmul(x_2, W) + b\n",
    "print(y)"
   ]
  },
  {
   "cell_type": "code",
   "execution_count": 31,
   "metadata": {},
   "outputs": [
    {
     "name": "stdout",
     "output_type": "stream",
     "text": [
      "torch.Size([200, 500])\n",
      "x after ReLU with nn.functional: tensor([[0.0000, 0.3533, 0.1263,  ..., 0.0000, 0.0000, 0.2790],\n",
      "        [0.0000, 0.1660, 0.1402,  ..., 0.0668, 0.0069, 0.0000],\n",
      "        [0.0000, 0.3177, 0.3979,  ..., 0.0000, 0.0000, 0.0000],\n",
      "        ...,\n",
      "        [0.0000, 0.4897, 0.3237,  ..., 0.0000, 0.1024, 0.2005],\n",
      "        [0.0413, 0.2355, 0.0000,  ..., 0.0000, 0.2227, 0.2373],\n",
      "        [0.0000, 0.0000, 0.7326,  ..., 0.1103, 0.0000, 0.0295]],\n",
      "       grad_fn=<ReluBackward0>)\n"
     ]
    }
   ],
   "source": [
    "#Including a nonlinearity via the rectified linear unit\n",
    "y_relu_F = F.relu(y)\n",
    "print(format(y_relu_F.shape))\n",
    "\n",
    "print(\"x after ReLU with nn.functional: {}\".format(y_relu_F))"
   ]
  },
  {
   "cell_type": "code",
   "execution_count": 32,
   "metadata": {},
   "outputs": [],
   "source": [
    "# Initalializing a 10-d hidden layer. W is randomized and b starts at zero\n",
    "#optimizer.zero_grad()\n",
    "W_500 = torch.randn(500, 10)/np.sqrt(500)\n",
    "W_500.requires_grad_()\n",
    "#print(W)\n",
    "b_500 = torch.zeros(10, requires_grad=True)\n",
    "#print(b)"
   ]
  },
  {
   "cell_type": "code",
   "execution_count": 33,
   "metadata": {},
   "outputs": [],
   "source": [
    "#Linear regression #2\n",
    "y = torch.matmul(y_relu_F, W_500) + b_500"
   ]
  },
  {
   "cell_type": "code",
   "execution_count": 34,
   "metadata": {},
   "outputs": [
    {
     "name": "stdout",
     "output_type": "stream",
     "text": [
      "cross entropy with torch.nn.functional.cross_entropy: 2.3494749069213867\n"
     ]
    }
   ],
   "source": [
    "#Performing cross entropy, softmax is included within this function in PyTorch\n",
    "cross_entropy = F.cross_entropy(y, labels)\n",
    "print(\"cross entropy with torch.nn.functional.cross_entropy: {}\".format(cross_entropy))"
   ]
  },
  {
   "cell_type": "code",
   "execution_count": 35,
   "metadata": {},
   "outputs": [],
   "source": [
    "#making the optimizer function, this will be Stoichastic Gradient Descent\n",
    "optimizer = torch.optim.SGD([W,b,W_500,b_500], lr=0.1)\n",
    "#print(optimizer)"
   ]
  },
  {
   "cell_type": "code",
   "execution_count": 36,
   "metadata": {},
   "outputs": [
    {
     "data": {
      "text/plain": [
       "tensor([[0., 0., 0.,  ..., 0., 0., 0.],\n",
       "        [0., 0., 0.,  ..., 0., 0., 0.],\n",
       "        [0., 0., 0.,  ..., 0., 0., 0.],\n",
       "        ...,\n",
       "        [0., 0., 0.,  ..., 0., 0., 0.],\n",
       "        [0., 0., 0.,  ..., 0., 0., 0.],\n",
       "        [0., 0., 0.,  ..., 0., 0., 0.]])"
      ]
     },
     "execution_count": 36,
     "metadata": {},
     "output_type": "execute_result"
    }
   ],
   "source": [
    "#calling the backward function on the cross_entropy above to compute the gradients for W and b\n",
    "cross_entropy.backward()\n",
    "W.grad"
   ]
  },
  {
   "cell_type": "code",
   "execution_count": 37,
   "metadata": {},
   "outputs": [],
   "source": [
    "#updating the gradient step\n",
    "optimizer.step()"
   ]
  },
  {
   "cell_type": "code",
   "execution_count": 38,
   "metadata": {},
   "outputs": [],
   "source": [
    "#clear gradient buffers as gradients calculated by backward() accumulate\n",
    "optimizer.zero_grad()"
   ]
  },
  {
   "cell_type": "code",
   "execution_count": 39,
   "metadata": {},
   "outputs": [
    {
     "data": {
      "application/vnd.jupyter.widget-view+json": {
       "model_id": "2f72ae2578cd4ee79fad843c174fa2ee",
       "version_major": 2,
       "version_minor": 0
      },
      "text/plain": [
       "HBox(children=(HTML(value=''), FloatProgress(value=0.0, max=600.0), HTML(value='')))"
      ]
     },
     "metadata": {},
     "output_type": "display_data"
    },
    {
     "name": "stdout",
     "output_type": "stream",
     "text": [
      "\n"
     ]
    }
   ],
   "source": [
    "### Now that I have the completed steps and they all look good, I am adding the full MLP code below. \n",
    "%matplotlib inline\n",
    "\n",
    "import numpy as np\n",
    "import torch\n",
    "import matplotlib.pyplot as plt\n",
    "import torch.nn.functional as F\n",
    "from torchvision import datasets, transforms\n",
    "from tqdm.notebook import tqdm\n",
    "\n",
    "mnist_train = datasets.MNIST(root=\"./datasets\", train=True, transform=transforms.ToTensor(), download=True)\n",
    "mnist_test = datasets.MNIST(root=\"./datasets\", train=False, transform=transforms.ToTensor(), download=True)\n",
    "train_loader = torch.utils.data.DataLoader(mnist_train, batch_size=100, shuffle=True)\n",
    "test_loader = torch.utils.data.DataLoader(mnist_test, batch_size=100, shuffle=False)\n",
    "\n",
    "#Initialize all variables\n",
    "#First \n",
    "W = torch.randn(784, 500)/np.sqrt(784)\n",
    "W.requires_grad_()\n",
    "#print(W)\n",
    "b = torch.zeros(500, requires_grad=True)\n",
    "#print(b)\n",
    "#Second\n",
    "W2 = torch.randn(500, 10)/np.sqrt(500)\n",
    "W2.requires_grad_()\n",
    "#print(W2)\n",
    "b2 = torch.zeros(10, requires_grad=True)\n",
    "#print(b2)\n",
    "\n",
    "optimizer = torch.optim.SGD([W,b,W2,b2], lr=0.05)\n",
    "\n",
    "# Iterate through train set minibatchs \n",
    "for images, labels in tqdm(train_loader):\n",
    "    optimizer.zero_grad()\n",
    "    \n",
    "    # Forward pass\n",
    "    x2 = images.view(-1, 28*28)\n",
    "    y = torch.matmul(x2, W) + b\n",
    "    y_relu = F.relu(y)\n",
    "    y2_lay = torch.matmul(y_relu, W2) + b2\n",
    "    cross_entropy = F.cross_entropy(y2_lay, labels)\n",
    "    \n",
    "    # Backward pass\n",
    "    cross_entropy.backward()\n",
    "    optimizer.step()"
   ]
  },
  {
   "cell_type": "code",
   "execution_count": 40,
   "metadata": {},
   "outputs": [
    {
     "data": {
      "application/vnd.jupyter.widget-view+json": {
       "model_id": "88208b950de74781a54d589f1aba5573",
       "version_major": 2,
       "version_minor": 0
      },
      "text/plain": [
       "HBox(children=(HTML(value=''), FloatProgress(value=0.0), HTML(value='')))"
      ]
     },
     "metadata": {},
     "output_type": "display_data"
    },
    {
     "name": "stdout",
     "output_type": "stream",
     "text": [
      "\n",
      "Test accuracy: 0.9117000102996826\n"
     ]
    }
   ],
   "source": [
    "correct = 0\n",
    "total = len(mnist_test)\n",
    "\n",
    "with torch.no_grad():\n",
    "    # Iterate through test set minibatchs \n",
    "    for images, labels in tqdm(test_loader):\n",
    "        # Forward pass\n",
    "        x2 = images.view(-1, 28*28)\n",
    "        y = torch.matmul(x2, W) + b\n",
    "        y_relu = F.relu(y)\n",
    "        y2_lay = torch.matmul(y_relu, W2) + b2\n",
    "        cross_entropy = F.cross_entropy(y2_lay, labels)\n",
    "        \n",
    "        \n",
    "        predictions = torch.argmax(y2_lay, dim=1)\n",
    "        correct += torch.sum((predictions == labels).float())\n",
    "    \n",
    "print('Test accuracy: {}'.format(correct/total))"
   ]
  }
 ],
 "metadata": {
  "kernelspec": {
   "display_name": "Python 3",
   "language": "python",
   "name": "python3"
  },
  "language_info": {
   "codemirror_mode": {
    "name": "ipython",
    "version": 3
   },
   "file_extension": ".py",
   "mimetype": "text/x-python",
   "name": "python",
   "nbconvert_exporter": "python",
   "pygments_lexer": "ipython3",
   "version": "3.8.5"
  }
 },
 "nbformat": 4,
 "nbformat_minor": 4
}
